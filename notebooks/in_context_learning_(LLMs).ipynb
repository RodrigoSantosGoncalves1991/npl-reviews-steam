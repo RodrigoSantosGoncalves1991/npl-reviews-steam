{
  "nbformat": 4,
  "nbformat_minor": 0,
  "metadata": {
    "colab": {
      "provenance": []
    },
    "kernelspec": {
      "name": "python3",
      "display_name": "Python 3"
    },
    "language_info": {
      "name": "python"
    }
  },
  "cells": [
    {
      "cell_type": "markdown",
      "source": [
        "### Instalando versão 0.28 do sdk da OpenAI"
      ],
      "metadata": {
        "id": "ozVTIqFEV60l"
      }
    },
    {
      "cell_type": "code",
      "source": [
        "pip install openai==0.28"
      ],
      "metadata": {
        "colab": {
          "base_uri": "https://localhost:8080/"
        },
        "id": "s7FDaupSs0fM",
        "outputId": "903d86b4-866b-487b-c357-22441e706909"
      },
      "execution_count": null,
      "outputs": [
        {
          "output_type": "stream",
          "name": "stdout",
          "text": [
            "Requirement already satisfied: openai==0.28 in /usr/local/lib/python3.10/dist-packages (0.28.0)\n",
            "Requirement already satisfied: requests>=2.20 in /usr/local/lib/python3.10/dist-packages (from openai==0.28) (2.32.3)\n",
            "Requirement already satisfied: tqdm in /usr/local/lib/python3.10/dist-packages (from openai==0.28) (4.67.1)\n",
            "Requirement already satisfied: aiohttp in /usr/local/lib/python3.10/dist-packages (from openai==0.28) (3.11.10)\n",
            "Requirement already satisfied: charset-normalizer<4,>=2 in /usr/local/lib/python3.10/dist-packages (from requests>=2.20->openai==0.28) (3.4.0)\n",
            "Requirement already satisfied: idna<4,>=2.5 in /usr/local/lib/python3.10/dist-packages (from requests>=2.20->openai==0.28) (3.10)\n",
            "Requirement already satisfied: urllib3<3,>=1.21.1 in /usr/local/lib/python3.10/dist-packages (from requests>=2.20->openai==0.28) (2.2.3)\n",
            "Requirement already satisfied: certifi>=2017.4.17 in /usr/local/lib/python3.10/dist-packages (from requests>=2.20->openai==0.28) (2024.12.14)\n",
            "Requirement already satisfied: aiohappyeyeballs>=2.3.0 in /usr/local/lib/python3.10/dist-packages (from aiohttp->openai==0.28) (2.4.4)\n",
            "Requirement already satisfied: aiosignal>=1.1.2 in /usr/local/lib/python3.10/dist-packages (from aiohttp->openai==0.28) (1.3.2)\n",
            "Requirement already satisfied: async-timeout<6.0,>=4.0 in /usr/local/lib/python3.10/dist-packages (from aiohttp->openai==0.28) (4.0.3)\n",
            "Requirement already satisfied: attrs>=17.3.0 in /usr/local/lib/python3.10/dist-packages (from aiohttp->openai==0.28) (24.3.0)\n",
            "Requirement already satisfied: frozenlist>=1.1.1 in /usr/local/lib/python3.10/dist-packages (from aiohttp->openai==0.28) (1.5.0)\n",
            "Requirement already satisfied: multidict<7.0,>=4.5 in /usr/local/lib/python3.10/dist-packages (from aiohttp->openai==0.28) (6.1.0)\n",
            "Requirement already satisfied: propcache>=0.2.0 in /usr/local/lib/python3.10/dist-packages (from aiohttp->openai==0.28) (0.2.1)\n",
            "Requirement already satisfied: yarl<2.0,>=1.17.0 in /usr/local/lib/python3.10/dist-packages (from aiohttp->openai==0.28) (1.18.3)\n",
            "Requirement already satisfied: typing-extensions>=4.1.0 in /usr/local/lib/python3.10/dist-packages (from multidict<7.0,>=4.5->aiohttp->openai==0.28) (4.12.2)\n"
          ]
        }
      ]
    },
    {
      "cell_type": "markdown",
      "source": [
        "### Importando bibliotecas"
      ],
      "metadata": {
        "id": "Y3MnGYZBW4ux"
      }
    },
    {
      "cell_type": "code",
      "source": [
        "import pandas as pd\n",
        "import json\n",
        "from sklearn.model_selection import train_test_split\n",
        "from sklearn.metrics import confusion_matrix, classification_report, ConfusionMatrixDisplay, roc_curve, auc\n",
        "from sklearn.preprocessing import label_binarize\n",
        "import matplotlib.pyplot as plt\n",
        "import seaborn as sns\n",
        "import openai\n",
        "from google.colab import userdata"
      ],
      "metadata": {
        "id": "qGAiuu-tx921"
      },
      "execution_count": null,
      "outputs": []
    },
    {
      "cell_type": "markdown",
      "source": [
        "### Carregando Dataset"
      ],
      "metadata": {
        "id": "Bc-8WAOuW7Pq"
      }
    },
    {
      "cell_type": "code",
      "source": [
        "with open('/content/review_data_Cyberpunk_2077.json', 'r', encoding='utf-8') as file:\n",
        "    data = json.load(file)\n",
        "\n",
        "X = [item['review'] for item in data]\n",
        "y = [1 if item['rating'] == 'recomendado' else 0 for item in data]  # 1 para recomendado, 0 caso contrário\n",
        "\n",
        "_, X_test, _, y_test = train_test_split(X, y, test_size=0.30, random_state=11)\n",
        "\n",
        "data_test = []\n",
        "\n",
        "for x, y in zip(X_test, y_test):\n",
        "  item = {}\n",
        "  item['review'] = x\n",
        "  item['rating'] = y\n",
        "  item['llm_rating'] = None\n",
        "  data_test.append(item)"
      ],
      "metadata": {
        "id": "TbXfV7nyxqTh"
      },
      "execution_count": null,
      "outputs": []
    },
    {
      "cell_type": "markdown",
      "source": [
        "### Acessando API da OpenAI, e a utilizando como classificador de reviews no conjunto de testes\n",
        "referência: https://platform.openai.com/docs/guides/text-generation"
      ],
      "metadata": {
        "id": "1CM5nIFesU_A"
      }
    },
    {
      "cell_type": "code",
      "execution_count": null,
      "metadata": {
        "colab": {
          "base_uri": "https://localhost:8080/"
        },
        "id": "vBR-0iXuneBr",
        "outputId": "4f77e8a4-a75c-455b-a99f-f52caef8cc21"
      },
      "outputs": [
        {
          "output_type": "stream",
          "name": "stdout",
          "text": [
            "Error classifying the review: invalid literal for int() with base 10: \"I'm sorry, I\"\n",
            "Error classifying the review: invalid literal for int() with base 10: \"I'm sorry, I\"\n",
            "Error classifying the review: invalid literal for int() with base 10: \"I'm sorry, but\"\n"
          ]
        }
      ],
      "source": [
        "openai.api_key = userdata.get('api_key')\n",
        "\n",
        "def classify_review(review, model=\"gpt-3.5-turbo\"):\n",
        "    try:\n",
        "        response = openai.ChatCompletion.create(\n",
        "            model=model,\n",
        "            messages=[\n",
        "                {\n",
        "                    \"role\": \"system\",\n",
        "                    \"content\": \"You are a sentiment classifier for reviews of the game Cyberpunk 2077. Classify them as positive or negative.\",\n",
        "                },\n",
        "                {\n",
        "                    \"role\": \"user\",\n",
        "                    \"content\": f\"\"\"\n",
        "                    Review:\n",
        "                        {review}\n",
        "                    Respond only with a number: 1 for positive, 0 for negative.\n",
        "                    \"\"\",\n",
        "                },\n",
        "            ],\n",
        "            max_tokens=5,\n",
        "            temperature=0.3,\n",
        "        )\n",
        "        return response.choices[0].message['content'].strip()\n",
        "    except Exception as e:\n",
        "        print(f\"Error classifying the review: {e}\")\n",
        "        return None\n",
        "\n",
        "y_pred = []\n",
        "\n",
        "for item in data_test:\n",
        "  try:\n",
        "    y_result = classify_review(item['review'])\n",
        "    item['llm_rating'] = int(y_result)\n",
        "  except Exception as e:\n",
        "    print(f\"Error classifying the review: {e}\")"
      ]
    },
    {
      "cell_type": "code",
      "source": [
        "data_test = [item for item in data_test if item['llm_rating'] is not None]\n",
        "y_test = [item['rating'] for item in data_test]\n",
        "y_pred = [item['llm_rating'] for item in data_test]"
      ],
      "metadata": {
        "id": "_s9Df_4a-sL1"
      },
      "execution_count": null,
      "outputs": []
    },
    {
      "cell_type": "code",
      "source": [
        "# Gerar matriz de confusão\n",
        "def plot_confusion_matrix(y_true, y_pred, labels):\n",
        "    cm = confusion_matrix(y_true, y_pred)\n",
        "    plt.figure(figsize=(8, 6))\n",
        "    sns.heatmap(cm, annot=True, fmt='d', cmap='Blues', xticklabels=labels, yticklabels=labels)\n",
        "    plt.title('Matriz de Confusão')\n",
        "    plt.xlabel('Classe Predita')\n",
        "    plt.ylabel('Classe Verdadeira')\n",
        "    plt.show()"
      ],
      "metadata": {
        "id": "9O61sy5G0AWe"
      },
      "execution_count": null,
      "outputs": []
    },
    {
      "cell_type": "markdown",
      "source": [
        "### Métricas com in-context learning"
      ],
      "metadata": {
        "id": "rohmah8OtO_4"
      }
    },
    {
      "cell_type": "code",
      "source": [
        "print(classification_report(y_test, y_pred, target_names=['não recomendado', 'recomendado']))\n",
        "\n",
        "plot_confusion_matrix(y_test, y_pred, ['não recomendado', 'recomendado'])"
      ],
      "metadata": {
        "colab": {
          "base_uri": "https://localhost:8080/",
          "height": 720
        },
        "id": "8NNN0my3z9fZ",
        "outputId": "c9371587-8724-4beb-d769-5d7e99169420"
      },
      "execution_count": null,
      "outputs": [
        {
          "output_type": "stream",
          "name": "stdout",
          "text": [
            "                 precision    recall  f1-score   support\n",
            "\n",
            "não recomendado       0.76      0.98      0.86       603\n",
            "    recomendado       0.98      0.69      0.81       594\n",
            "\n",
            "       accuracy                           0.84      1197\n",
            "      macro avg       0.87      0.83      0.83      1197\n",
            "   weighted avg       0.87      0.84      0.83      1197\n",
            "\n"
          ]
        },
        {
          "output_type": "display_data",
          "data": {
            "text/plain": [
              "<Figure size 800x600 with 2 Axes>"
            ],
            "image/png": "[encoded data removed]"
          },
          "metadata": {}
        }
      ]
    }
  ]
}